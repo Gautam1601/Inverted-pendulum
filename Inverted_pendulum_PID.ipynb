{
 "cells": [
  {
   "cell_type": "code",
   "execution_count": null,
   "id": "1536e400",
   "metadata": {},
   "outputs": [],
   "source": [
    "import gym\n",
    "import numpy as np \n",
    "import math \n",
    "\n",
    "## Creation of environment state\n",
    "env = gym.make('CartPole-v1', render_mode='human')\n",
    "\n",
    "## Defining constants for pid \n",
    "Kp = 2.0\n",
    "Ki = 0.01\n",
    "Kd = 0.9\n",
    "\n",
    "## Make Error 0\n",
    "prev_error = 0\n",
    "integral = 0\n",
    "\n",
    "for t in range(1000):\n",
    "    ## Resetting to begin\n",
    "    state = env.reset()\n",
    "    pole_angle = state[1]\n",
    "\n",
    "    ## Calculating the error\n",
    "    error = pole_angle\n",
    "    print(error)"
   ]
  },
  {
   "cell_type": "code",
   "execution_count": null,
   "id": "71833c40",
   "metadata": {},
   "outputs": [],
   "source": [
    "## Updating the value of the integral\n",
    "    integral += error\n",
    "\n",
    "    ## Updating the previous error\n",
    "    prev_error = error\n",
    "    \n",
    "    ## Caluculating the value of the derivative\n",
    "    derivative -= prev_error\n",
    "\n",
    "    ## Calculate the control signal\n",
    "    control = Kp*error + Ki*integral + Kd*derivative\n",
    "\n",
    "    ## Render the environment\n",
    "    state, reward, done, info = env.step(control)\n",
    "    env.render()"
   ]
  },
  {
   "cell_type": "code",
   "execution_count": 39,
   "id": "b86f259d",
   "metadata": {},
   "outputs": [],
   "source": [
    "env.close()"
   ]
  },
  {
   "cell_type": "code",
   "execution_count": null,
   "id": "4ce3d013",
   "metadata": {},
   "outputs": [],
   "source": []
  },
  {
   "cell_type": "code",
   "execution_count": null,
   "id": "84ccb02e",
   "metadata": {},
   "outputs": [],
   "source": []
  }
 ],
 "metadata": {
  "kernelspec": {
   "display_name": "Python 3 (ipykernel)",
   "language": "python",
   "name": "python3"
  },
  "language_info": {
   "codemirror_mode": {
    "name": "ipython",
    "version": 3
   },
   "file_extension": ".py",
   "mimetype": "text/x-python",
   "name": "python",
   "nbconvert_exporter": "python",
   "pygments_lexer": "ipython3",
   "version": "3.9.13"
  }
 },
 "nbformat": 4,
 "nbformat_minor": 5
}
